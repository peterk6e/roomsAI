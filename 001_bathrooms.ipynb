{
 "cells": [
  {
   "cell_type": "code",
   "execution_count": 2,
   "metadata": {
    "gradient": {}
   },
   "outputs": [],
   "source": [
    "# https://medium.com/unpackai/how-to-deploy-fast-ai-models-8704ea711ad2\n",
    "!pip install -Uqq fastbook --use-feature=2020-resolver\n",
    "import fastbook\n",
    "fastbook.setup_book()"
   ]
  },
  {
   "cell_type": "code",
   "execution_count": null,
   "metadata": {
    "gradient": {}
   },
   "outputs": [],
   "source": [
    "from fastbook import *"
   ]
  },
  {
   "cell_type": "code",
   "execution_count": null,
   "metadata": {
    "gradient": {
     "source_hidden": false
    }
   },
   "outputs": [],
   "source": [
    "from fastai.vision.all import *"
   ]
  },
  {
   "cell_type": "code",
   "execution_count": null,
   "metadata": {
    "gradient": {
     "source_hidden": false
    }
   },
   "outputs": [],
   "source": [
    "# import pathlib\n",
    "# pathlib.Path().absolute()"
   ]
  },
  {
   "cell_type": "code",
   "execution_count": null,
   "metadata": {
    "gradient": {
     "source_hidden": false
    }
   },
   "outputs": [],
   "source": [
    "# import os\n",
    "# os.chdir('C:/fastai/rooms2') \n",
    "# %ls"
   ]
  },
  {
   "cell_type": "code",
   "execution_count": null,
   "metadata": {
    "gradient": {
     "source_hidden": false
    }
   },
   "outputs": [],
   "source": [
    "# path = 'C:/fastai/rooms2/bathroom'"
   ]
  },
  {
   "cell_type": "code",
   "execution_count": null,
   "metadata": {
    "gradient": {
     "source_hidden": false
    }
   },
   "outputs": [],
   "source": [
    "# files = get_image_files('C:/fastai/rooms2/bathroom')\n",
    "# len(files)"
   ]
  },
  {
   "cell_type": "code",
   "execution_count": null,
   "metadata": {
    "gradient": {
     "source_hidden": false
    }
   },
   "outputs": [],
   "source": [
    "import re\n",
    "def is_bath(x): \n",
    "    if re.search(\"bath\", x):\n",
    "        return True\n",
    "    else:\n",
    "        return False\n",
    "\n",
    "is_bath('bath_room')"
   ]
  },
  {
   "cell_type": "code",
   "execution_count": null,
   "metadata": {
    "gradient": {}
   },
   "outputs": [],
   "source": [
    "# dls = ImageDataLoaders.from_name_func(\n",
    "#     path, get_image_files(path), valid_pct=0.2, seed=42,\n",
    "#     label_func=is_bath, item_tfms=Resize(224))\n",
    "\n",
    "# learn = cnn_learner(dls, resnet34, metrics=error_rate)\n",
    "# learn.fine_tune(4)"
   ]
  },
  {
   "cell_type": "code",
   "execution_count": null,
   "metadata": {
    "gradient": {
     "source_hidden": false
    }
   },
   "outputs": [],
   "source": [
    "# learn.export('trained_model.pkl') #export learner"
   ]
  },
  {
   "cell_type": "code",
   "execution_count": null,
   "metadata": {
    "gradient": {
     "source_hidden": false
    }
   },
   "outputs": [],
   "source": [
    "# uploader = widgets.FileUpload()\n",
    "# uploader"
   ]
  },
  {
   "cell_type": "code",
   "execution_count": null,
   "metadata": {
    "gradient": {}
   },
   "outputs": [],
   "source": [
    "# os.chdir('/notebooks/test') \n",
    "# %ls\n",
    "\n",
    "# uploader = SimpleNamespace(data = ['tub_29.jpg'])\n",
    "# uploader = SimpleNamespace(data = ['tub_30.jpg'])"
   ]
  },
  {
   "cell_type": "code",
   "execution_count": null,
   "metadata": {
    "gradient": {}
   },
   "outputs": [],
   "source": [
    "# img = PILImage.create(uploader.data[0])\n",
    "# # img.to_thumb(192)\n",
    "\n",
    "# is_bath,_,probs = learn.predict(img)\n",
    "# print(f\"Is this a bathroom?: {is_bath}.\")\n",
    "# print(f\"Probability it's a bathroom: {probs[1].item():.6f}\")"
   ]
  },
  {
   "cell_type": "code",
   "execution_count": null,
   "metadata": {},
   "outputs": [],
   "source": []
  },
  {
   "cell_type": "code",
   "execution_count": null,
   "metadata": {},
   "outputs": [],
   "source": [
    "import pathlib\n",
    "temp = pathlib.PosixPath\n",
    "pathlib.PosixPath = pathlib.WindowsPath\n",
    "\n",
    "learn = load_learner('/app/models/trained_model.pkl')"
   ]
  },
  {
   "cell_type": "code",
   "execution_count": null,
   "metadata": {},
   "outputs": [],
   "source": [
    "# import ipywidgets\n",
    "# print(ipywidgets.__version__)\n",
    "# !pip install ipywidgets==7.5.1\n",
    "# jupyter nbextension enable --py --sys-prefix widgetsnbextension\n",
    "\n",
    "# import nbconvert\n",
    "# print(nbconvert.__version__)\n",
    "# !pip install nbconvert==6.0.7"
   ]
  },
  {
   "cell_type": "code",
   "execution_count": null,
   "metadata": {},
   "outputs": [],
   "source": [
    "# TEST WIDGET\n",
    "import ipywidgets as widgets\n",
    "from IPython.display import clear_output\n",
    "\n",
    "uploader = widgets.FileUpload()\n",
    "\n",
    "btn = widgets.Button(description='Is it a bathroom?')\n",
    "display(btn)\n",
    "\n",
    "btn2 = widgets.Button(description='Show image')\n",
    "display(btn2)\n",
    "\n",
    "btn3 = widgets.Button(description='reset uploader')\n",
    "display(btn3)\n",
    "\n",
    "#-------------------------------------------\n",
    "\n",
    "def btn_showimage(obj):\n",
    "    for name, file_info in uploader.value.items():\n",
    "        img = Image.open(io.BytesIO(file_info['content']))\n",
    "        display(img)\n",
    "\n",
    "def btn_eventhandler(obj):\n",
    "    img = PILImage.create(uploader.data[0])\n",
    "    wh_room,_,probs = learn.predict(img)\n",
    "    print(f\"is this a bathroom?: {wh_room}.\")\n",
    "    \n",
    "def btn_reset(obj): \n",
    "    uploader.value.clear()\n",
    "    uploader._counter = 0\n",
    "\n",
    "#-------------------------------------------\n",
    "    \n",
    "btn2.on_click(btn_showimage)\n",
    "display(uploader)\n",
    "btn.on_click(btn_eventhandler)\n",
    "btn3.on_click(btn_reset)\n",
    "\n",
    "# TEST WIDGET"
   ]
  },
  {
   "cell_type": "code",
   "execution_count": null,
   "metadata": {},
   "outputs": [],
   "source": []
  }
 ],
 "metadata": {
  "jupytext": {
   "split_at_heading": true
  },
  "kernelspec": {
   "display_name": "Python 3",
   "language": "python",
   "name": "python3"
  },
  "language_info": {
   "codemirror_mode": {
    "name": "ipython",
    "version": 3
   },
   "file_extension": ".py",
   "mimetype": "text/x-python",
   "name": "python",
   "nbconvert_exporter": "python",
   "pygments_lexer": "ipython3",
   "version": "3.6.5"
  }
 },
 "nbformat": 4,
 "nbformat_minor": 4
}
