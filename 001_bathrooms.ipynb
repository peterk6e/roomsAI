{
 "cells": [
  {
   "cell_type": "code",
   "execution_count": 3,
   "metadata": {
    "gradient": {}
   },
   "outputs": [],
   "source": [
    "# https://medium.com/unpackai/how-to-deploy-fast-ai-models-8704ea711ad2\n",
    "!pip install -Uqq fastbook\n",
    "import fastbook\n",
    "fastbook.setup_book()"
   ]
  },
  {
   "cell_type": "code",
   "execution_count": 4,
   "metadata": {
    "gradient": {}
   },
   "outputs": [],
   "source": [
    "from fastbook import *"
   ]
  },
  {
   "cell_type": "code",
   "execution_count": 5,
   "metadata": {
    "gradient": {
     "source_hidden": false
    }
   },
   "outputs": [],
   "source": [
    "from fastai.vision.all import *"
   ]
  },
  {
   "cell_type": "code",
   "execution_count": 6,
   "metadata": {
    "gradient": {
     "source_hidden": false
    }
   },
   "outputs": [
    {
     "data": {
      "text/plain": [
       "Path('C:/fastai/rooms2')"
      ]
     },
     "execution_count": 6,
     "metadata": {},
     "output_type": "execute_result"
    }
   ],
   "source": [
    "# import pathlib\n",
    "# pathlib.Path().absolute()"
   ]
  },
  {
   "cell_type": "code",
   "execution_count": 7,
   "metadata": {
    "gradient": {
     "source_hidden": false
    }
   },
   "outputs": [
    {
     "name": "stdout",
     "output_type": "stream",
     "text": [
      " Volume in drive C is OS\n",
      " Volume Serial Number is 7E01-1132\n",
      "\n",
      " Directory of C:\\fastai\\rooms2\n",
      "\n",
      "19/05/2021  02:27 pm    <DIR>          .\n",
      "19/05/2021  02:27 pm    <DIR>          ..\n",
      "18/05/2021  04:04 pm    <DIR>          .ipynb_checkpoints\n",
      "19/05/2021  02:27 pm            11,856 001_bathrooms.ipynb\n",
      "18/05/2021  05:30 pm            11,253 001_rooms.ipynb\n",
      "18/05/2021  04:45 pm    <DIR>          bathroom\n",
      "11/05/2021  04:15 pm        39,038,622 bathroom.zip\n",
      "19/05/2021  02:02 pm    <DIR>          models\n",
      "18/05/2021  04:34 pm    <DIR>          rooms\n",
      "12/05/2021  04:45 pm       121,902,764 rooms.zip\n",
      "               4 File(s)    160,964,495 bytes\n",
      "               6 Dir(s)   6,433,492,992 bytes free\n"
     ]
    }
   ],
   "source": [
    "# import os\n",
    "# os.chdir('C:/fastai/rooms2') \n",
    "# %ls"
   ]
  },
  {
   "cell_type": "code",
   "execution_count": 2,
   "metadata": {
    "gradient": {
     "source_hidden": false
    }
   },
   "outputs": [],
   "source": []
  },
  {
   "cell_type": "code",
   "execution_count": 8,
   "metadata": {
    "gradient": {
     "source_hidden": false
    }
   },
   "outputs": [],
   "source": [
    "# path = 'C:/fastai/rooms2/bathroom'"
   ]
  },
  {
   "cell_type": "code",
   "execution_count": 9,
   "metadata": {
    "gradient": {
     "source_hidden": false
    }
   },
   "outputs": [
    {
     "data": {
      "text/plain": [
       "1854"
      ]
     },
     "execution_count": 9,
     "metadata": {},
     "output_type": "execute_result"
    }
   ],
   "source": [
    "# files = get_image_files('C:/fastai/rooms2/bathroom')\n",
    "# len(files)"
   ]
  },
  {
   "cell_type": "code",
   "execution_count": 10,
   "metadata": {
    "gradient": {
     "source_hidden": false
    }
   },
   "outputs": [
    {
     "data": {
      "text/plain": [
       "True"
      ]
     },
     "execution_count": 10,
     "metadata": {},
     "output_type": "execute_result"
    }
   ],
   "source": [
    "import re\n",
    "def is_bath(x): \n",
    "    if re.search(\"bath\", x):\n",
    "        return True\n",
    "    else:\n",
    "        return False\n",
    "\n",
    "is_bath('bath_room')"
   ]
  },
  {
   "cell_type": "code",
   "execution_count": null,
   "metadata": {
    "gradient": {}
   },
   "outputs": [],
   "source": [
    "# dls = ImageDataLoaders.from_name_func(\n",
    "#     path, get_image_files(path), valid_pct=0.2, seed=42,\n",
    "#     label_func=is_bath, item_tfms=Resize(224))\n",
    "\n",
    "# learn = cnn_learner(dls, resnet34, metrics=error_rate)\n",
    "# learn.fine_tune(4)"
   ]
  },
  {
   "cell_type": "code",
   "execution_count": null,
   "metadata": {
    "gradient": {
     "source_hidden": false
    }
   },
   "outputs": [],
   "source": [
    "# learn.export('trained_model.pkl') #export learner"
   ]
  },
  {
   "cell_type": "code",
   "execution_count": null,
   "metadata": {
    "gradient": {
     "source_hidden": false
    }
   },
   "outputs": [
    {
     "data": {
      "application/vnd.jupyter.widget-view+json": {
       "model_id": "1f9eb24bbed8433ea971dc8a455ccaca",
       "version_major": 2,
       "version_minor": 0
      },
      "text/plain": [
       "FileUpload(value={}, description='Upload')"
      ]
     },
     "metadata": {},
     "output_type": "display_data"
    }
   ],
   "source": [
    "# uploader = widgets.FileUpload()\n",
    "# uploader"
   ]
  },
  {
   "cell_type": "code",
   "execution_count": null,
   "metadata": {
    "gradient": {}
   },
   "outputs": [
    {
     "name": "stdout",
     "output_type": "stream",
     "text": [
      "aj.jpg       test_2.jpg   tub (5).jpg  tub_20.jpeg  tub_25.jpg  tub_30.jpg\r\n",
      "bedroom.jpg  tub (1).jpg  tub (6).jpg  tub_21.jpg   tub_26.jpg\r\n",
      "cheval.jpg   tub (2).jpg  tub (7).jpg  tub_22.jpg   tub_27.jpg\r\n",
      "test.jpg     tub (3).jpg  tub (8).jpg  tub_23.jpg   tub_28.jpg\r\n",
      "test_1.jpg   tub (4).jpg  tub (9).jpg  tub_24.jpg   tub_29.jpg\r\n"
     ]
    }
   ],
   "source": [
    "# os.chdir('/notebooks/test') \n",
    "# %ls\n",
    "\n",
    "# uploader = SimpleNamespace(data = ['tub_29.jpg'])\n",
    "# uploader = SimpleNamespace(data = ['tub_30.jpg'])"
   ]
  },
  {
   "cell_type": "code",
   "execution_count": null,
   "metadata": {
    "gradient": {}
   },
   "outputs": [],
   "source": [
    "# img = PILImage.create(uploader.data[0])\n",
    "# # img.to_thumb(192)\n",
    "\n",
    "# is_bath,_,probs = learn.predict(img)\n",
    "# print(f\"Is this a bathroom?: {is_bath}.\")\n",
    "# print(f\"Probability it's a bathroom: {probs[1].item():.6f}\")"
   ]
  },
  {
   "cell_type": "code",
   "execution_count": 11,
   "metadata": {},
   "outputs": [],
   "source": [
    "import pathlib\n",
    "temp = pathlib.PosixPath\n",
    "pathlib.PosixPath = pathlib.WindowsPath\n",
    "\n",
    "learn = load_learner('/app/models/trained_model.pkl')"
   ]
  },
  {
   "cell_type": "code",
   "execution_count": null,
   "metadata": {},
   "outputs": [],
   "source": [
    "# import ipywidgets\n",
    "# print(ipywidgets.__version__)\n",
    "# !pip install ipywidgets==7.5.1\n",
    "# jupyter nbextension enable --py --sys-prefix widgetsnbextension\n",
    "\n",
    "import nbconvert\n",
    "print(nbconvert.__version__)\n",
    "# !pip install nbconvert==6.0.7"
   ]
  },
  {
   "cell_type": "code",
   "execution_count": null,
   "metadata": {},
   "outputs": [],
   "source": [
    "# TEST WIDGET\n",
    "import ipywidgets as widgets\n",
    "from IPython.display import clear_output\n",
    "\n",
    "uploader = widgets.FileUpload()\n",
    "\n",
    "btn = widgets.Button(description='Is it a bathroom?')\n",
    "display(btn)\n",
    "\n",
    "btn2 = widgets.Button(description='Show image')\n",
    "display(btn2)\n",
    "\n",
    "btn3 = widgets.Button(description='reset uploader')\n",
    "display(btn3)\n",
    "\n",
    "#-------------------------------------------\n",
    "\n",
    "def btn_showimage(obj):\n",
    "    for name, file_info in uploader.value.items():\n",
    "        img = Image.open(io.BytesIO(file_info['content']))\n",
    "        display(img)\n",
    "\n",
    "def btn_eventhandler(obj):\n",
    "    img = PILImage.create(uploader.data[0])\n",
    "    wh_room,_,probs = learn.predict(img)\n",
    "    print(f\"is this a bathroom?: {wh_room}.\")\n",
    "    \n",
    "def btn_reset(obj): \n",
    "    uploader.value.clear()\n",
    "    uploader._counter = 0\n",
    "\n",
    "#-------------------------------------------\n",
    "    \n",
    "btn2.on_click(btn_showimage)\n",
    "display(uploader)\n",
    "btn.on_click(btn_eventhandler)\n",
    "btn3.on_click(btn_reset)\n",
    "\n",
    "# TEST WIDGET"
   ]
  },
  {
   "cell_type": "code",
   "execution_count": null,
   "metadata": {},
   "outputs": [],
   "source": []
  }
 ],
 "metadata": {
  "jupytext": {
   "split_at_heading": true
  },
  "kernelspec": {
   "display_name": "Python 3",
   "language": "python",
   "name": "python3"
  },
  "language_info": {
   "codemirror_mode": {
    "name": "ipython",
    "version": 3
   },
   "file_extension": ".py",
   "mimetype": "text/x-python",
   "name": "python",
   "nbconvert_exporter": "python",
   "pygments_lexer": "ipython3",
   "version": "3.6.5"
  }
 },
 "nbformat": 4,
 "nbformat_minor": 4
}
