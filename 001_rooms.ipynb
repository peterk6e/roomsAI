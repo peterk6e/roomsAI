{
 "cells": [
  {
   "cell_type": "code",
   "execution_count": 1,
   "metadata": {
    "gradient": {}
   },
   "outputs": [],
   "source": [
    "# htpip install --upgrade -r requirements.txttps://medium.com/unpackai/how-to-deploy-fast-ai-models-8704ea711ad2\n",
    "!pip install --upgrade -r requirements.txt\n",
    "!pip install -Uqq fastbook\n",
    "import fastbook\n",
    "fastbook.setup_book()"
   ]
  },
  {
   "cell_type": "code",
   "execution_count": 2,
   "metadata": {
    "gradient": {}
   },
   "outputs": [],
   "source": [
    "#hide\n",
    "from fastbook import *"
   ]
  },
  {
   "cell_type": "code",
   "execution_count": 3,
   "metadata": {
    "gradient": {
     "source_hidden": false
    }
   },
   "outputs": [],
   "source": [
    "from fastai.vision.all import *"
   ]
  },
  {
   "cell_type": "code",
   "execution_count": 4,
   "metadata": {
    "gradient": {
     "source_hidden": false
    }
   },
   "outputs": [
    {
     "data": {
      "text/plain": [
       "Path('C:/fastai/rooms2')"
      ]
     },
     "execution_count": 4,
     "metadata": {},
     "output_type": "execute_result"
    }
   ],
   "source": [
    "import pathlib\n",
    "pathlib.Path().absolute()"
   ]
  },
  {
   "cell_type": "code",
   "execution_count": 5,
   "metadata": {
    "gradient": {
     "source_hidden": false
    }
   },
   "outputs": [
    {
     "ename": "OSError",
     "evalue": "[WinError 123] The filename, directory name, or volume label syntax is incorrect: '\\u202aC:/fastai/rooms2'",
     "output_type": "error",
     "traceback": [
      "\u001b[1;31m---------------------------------------------------------------------------\u001b[0m",
      "\u001b[1;31mOSError\u001b[0m                                   Traceback (most recent call last)",
      "\u001b[1;32m<ipython-input-5-0a7c43bef966>\u001b[0m in \u001b[0;36m<module>\u001b[1;34m()\u001b[0m\n\u001b[0;32m      1\u001b[0m \u001b[1;32mimport\u001b[0m \u001b[0mos\u001b[0m\u001b[1;33m\u001b[0m\u001b[0m\n\u001b[1;32m----> 2\u001b[1;33m \u001b[0mos\u001b[0m\u001b[1;33m.\u001b[0m\u001b[0mchdir\u001b[0m\u001b[1;33m(\u001b[0m\u001b[1;34m'‪C:/fastai/rooms2'\u001b[0m\u001b[1;33m)\u001b[0m\u001b[1;33m\u001b[0m\u001b[0m\n\u001b[0m\u001b[0;32m      3\u001b[0m \u001b[0mget_ipython\u001b[0m\u001b[1;33m(\u001b[0m\u001b[1;33m)\u001b[0m\u001b[1;33m.\u001b[0m\u001b[0mrun_line_magic\u001b[0m\u001b[1;33m(\u001b[0m\u001b[1;34m'ls'\u001b[0m\u001b[1;33m,\u001b[0m \u001b[1;34m''\u001b[0m\u001b[1;33m)\u001b[0m\u001b[1;33m\u001b[0m\u001b[0m\n",
      "\u001b[1;31mOSError\u001b[0m: [WinError 123] The filename, directory name, or volume label syntax is incorrect: '\\u202aC:/fastai/rooms2'"
     ]
    }
   ],
   "source": [
    "import os\n",
    "os.chdir('‪C:/fastai/rooms2') \n",
    "%ls"
   ]
  },
  {
   "cell_type": "code",
   "execution_count": null,
   "metadata": {
    "gradient": {
     "source_hidden": false
    }
   },
   "outputs": [],
   "source": [
    "# for rooms\n",
    "import zipfile\n",
    "zip = zipfile.ZipFile('rooms.zip')\n",
    "zip.extractall('allrooms')\n",
    "zip.close()"
   ]
  },
  {
   "cell_type": "code",
   "execution_count": null,
   "metadata": {
    "gradient": {
     "source_hidden": false
    }
   },
   "outputs": [],
   "source": [
    "# rooms \n",
    "path = '‪C:/fastai/rooms2/rooms'\n",
    "%ls"
   ]
  },
  {
   "cell_type": "code",
   "execution_count": 7,
   "metadata": {
    "gradient": {
     "source_hidden": false
    }
   },
   "outputs": [
    {
     "data": {
      "text/plain": [
       "5250"
      ]
     },
     "execution_count": 7,
     "metadata": {},
     "output_type": "execute_result"
    }
   ],
   "source": [
    "files = get_image_files('C:/fastai/rooms2/rooms')\n",
    "len(files)"
   ]
  },
  {
   "cell_type": "code",
   "execution_count": 8,
   "metadata": {
    "gradient": {
     "source_hidden": false
    }
   },
   "outputs": [
    {
     "data": {
      "text/plain": [
       "'bedroom'"
      ]
     },
     "execution_count": 8,
     "metadata": {},
     "output_type": "execute_result"
    }
   ],
   "source": [
    "# rooms \n",
    "import re\n",
    "def wh_room(x): \n",
    "    if re.search(\"bath\", x):\n",
    "        return 'bathroom'\n",
    "    elif re.search(\"living\", x):\n",
    "        return 'living room'\n",
    "    elif re.search(\"kitchen\", x):\n",
    "        return 'kitchen'\n",
    "    elif re.search(\"din\", x):\n",
    "        return 'dining room'\n",
    "    elif re.search(\"bed\", x):\n",
    "        return 'bedroom'\n",
    "    else:\n",
    "        return 'unknown'\n",
    "\n",
    "wh_room('bed')"
   ]
  },
  {
   "cell_type": "code",
   "execution_count": null,
   "metadata": {
    "gradient": {
     "source_hidden": false
    }
   },
   "outputs": [],
   "source": [
    "# create learner\n",
    "# dls = ImageDataLoaders.from_name_func(\n",
    "#     path, get_image_files('C:/fastai/rooms2/rooms'), valid_pct=0.2, seed=42,\n",
    "#     label_func=wh_room, item_tfms=Resize(224))\n",
    "\n",
    "# learn = cnn_learner(dls, resnet34, metrics=error_rate)\n",
    "# learn.fine_tune(4)"
   ]
  },
  {
   "cell_type": "code",
   "execution_count": null,
   "metadata": {},
   "outputs": [],
   "source": [
    "# export Learner\n",
    "# learn.export('trained_model2.pkl') "
   ]
  },
  {
   "cell_type": "code",
   "execution_count": null,
   "metadata": {
    "gradient": {
     "source_hidden": false
    }
   },
   "outputs": [],
   "source": [
    "# uploader = widgets.FileUpload()\n",
    "# uploader"
   ]
  },
  {
   "cell_type": "code",
   "execution_count": null,
   "metadata": {
    "gradient": {}
   },
   "outputs": [],
   "source": [
    "# os.chdir('/notebooks/test') \n",
    "# %ls\n",
    "# uploader = SimpleNamespace(data = ['tub_29.jpg'])\n",
    "# uploader = SimpleNamespace(data = ['tub_30.jpg'])"
   ]
  },
  {
   "cell_type": "code",
   "execution_count": null,
   "metadata": {
    "gradient": {
     "source_hidden": false
    }
   },
   "outputs": [],
   "source": [
    "# img = PILImage.create(uploader.data[0])\n",
    "# img.to_thumb(592)\n",
    "\n",
    "wh_room,_,probs = learn.predict(img)\n",
    "print(f\"what is this room?: {wh_room}.\")\n",
    "print(f\"Probability is: {probs[1].item():.6f}\")"
   ]
  },
  {
   "cell_type": "code",
   "execution_count": null,
   "metadata": {
    "gradient": {}
   },
   "outputs": [],
   "source": [
    "# import ipywidgets\n",
    "# print(ipywidgets.__version__)\n",
    "# !pip install ipywidgets==7.5.1\n",
    "# jupyter nbextension enable --py --sys-prefix widgetsnbextension"
   ]
  },
  {
   "cell_type": "code",
   "execution_count": 9,
   "metadata": {
    "gradient": {}
   },
   "outputs": [],
   "source": [
    "import pathlib\n",
    "temp = pathlib.PosixPath\n",
    "pathlib.PosixPath = pathlib.WindowsPath\n",
    "\n",
    "learn = load_learner('C:/fastai/rooms2/models/trained_model2.pkl')"
   ]
  },
  {
   "cell_type": "code",
   "execution_count": 14,
   "metadata": {
    "gradient": {}
   },
   "outputs": [
    {
     "data": {
      "application/vnd.jupyter.widget-view+json": {
       "model_id": "e3ca9bb9299542a782f32eb0e4739a14",
       "version_major": 2,
       "version_minor": 0
      },
      "text/plain": [
       "Button(description='What is this room?', style=ButtonStyle())"
      ]
     },
     "metadata": {},
     "output_type": "display_data"
    },
    {
     "data": {
      "application/vnd.jupyter.widget-view+json": {
       "model_id": "0bab978c05ca4ac697bb91f98f121aa9",
       "version_major": 2,
       "version_minor": 0
      },
      "text/plain": [
       "Button(description='Show image', style=ButtonStyle())"
      ]
     },
     "metadata": {},
     "output_type": "display_data"
    },
    {
     "data": {
      "application/vnd.jupyter.widget-view+json": {
       "model_id": "d155d537fbdb4a7d88f9fafef838fc73",
       "version_major": 2,
       "version_minor": 0
      },
      "text/plain": [
       "Button(description='reset uploader', style=ButtonStyle())"
      ]
     },
     "metadata": {},
     "output_type": "display_data"
    },
    {
     "data": {
      "application/vnd.jupyter.widget-view+json": {
       "model_id": "6deec4469ade42bba6730a0e4ff3f093",
       "version_major": 2,
       "version_minor": 0
      },
      "text/plain": [
       "FileUpload(value={}, description='Upload')"
      ]
     },
     "metadata": {},
     "output_type": "display_data"
    }
   ],
   "source": [
    "# TEST WIDGET\n",
    "import ipywidgets as widgets\n",
    "from IPython.display import clear_output\n",
    "\n",
    "uploader = widgets.FileUpload()\n",
    "\n",
    "btn = widgets.Button(description='What is this room?')\n",
    "display(btn)\n",
    "\n",
    "btn2 = widgets.Button(description='Show image')\n",
    "display(btn2)\n",
    "\n",
    "btn3 = widgets.Button(description='reset uploader')\n",
    "display(btn3)\n",
    "\n",
    "#-------------------------------------------\n",
    "\n",
    "def btn_showimage(obj):\n",
    "    for name, file_info in uploader.value.items():\n",
    "        img = Image.open(io.BytesIO(file_info['content']))\n",
    "        display(img)\n",
    "\n",
    "def btn_eventhandler(obj):\n",
    "    img = PILImage.create(uploader.data[0])\n",
    "    wh_room,_,probs = learn.predict(img)\n",
    "    print(f\"what is this room?: {wh_room}.\")\n",
    "    \n",
    "def btn_reset(obj): \n",
    "    uploader.value.clear()\n",
    "    uploader._counter = 0\n",
    "\n",
    "#-------------------------------------------\n",
    "    \n",
    "btn2.on_click(btn_showimage)\n",
    "display(uploader)\n",
    "btn.on_click(btn_eventhandler)\n",
    "btn3.on_click(btn_reset)\n",
    "\n",
    "# TEST WIDGET\n"
   ]
  },
  {
   "cell_type": "code",
   "execution_count": null,
   "metadata": {
    "gradient": {}
   },
   "outputs": [],
   "source": []
  }
 ],
 "metadata": {
  "jupytext": {
   "split_at_heading": true
  },
  "kernelspec": {
   "display_name": "Python 3",
   "language": "python",
   "name": "python3"
  },
  "language_info": {
   "codemirror_mode": {
    "name": "ipython",
    "version": 3
   },
   "file_extension": ".py",
   "mimetype": "text/x-python",
   "name": "python",
   "nbconvert_exporter": "python",
   "pygments_lexer": "ipython3",
   "version": "3.8.10"
  }
 },
 "nbformat": 4,
 "nbformat_minor": 4
}
